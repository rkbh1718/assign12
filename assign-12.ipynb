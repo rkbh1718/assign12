{
 "cells": [
  {
   "cell_type": "markdown",
   "id": "007c8957",
   "metadata": {},
   "source": [
    "# 1. In what modes should the PdfFileReader() and PdfFileWriter() File objects will be opened?"
   ]
  },
  {
   "cell_type": "code",
   "execution_count": null,
   "id": "5c4e4c99",
   "metadata": {},
   "outputs": [],
   "source": [
    "PdfFileReader() should be opened in read mode  and PdfFileWriter() should opened in write mode"
   ]
  },
  {
   "cell_type": "markdown",
   "id": "dc5ca194",
   "metadata": {},
   "source": [
    "# 2. From a PdfFileReader object, how do you get a Page object for page 5?"
   ]
  },
  {
   "cell_type": "code",
   "execution_count": null,
   "id": "8ca322d7",
   "metadata": {},
   "outputs": [],
   "source": [
    " PdfFileReader.getPage(5)"
   ]
  },
  {
   "cell_type": "markdown",
   "id": "7e807258",
   "metadata": {},
   "source": [
    "# 3. What PdfFileReader variable stores the number of pages in the PDF document?"
   ]
  },
  {
   "cell_type": "code",
   "execution_count": null,
   "id": "94f08bd1",
   "metadata": {},
   "outputs": [],
   "source": [
    "The total number of pages in the document is stored in the numPages attribute of a PdfFileReader object as indexes"
   ]
  },
  {
   "cell_type": "markdown",
   "id": "517677ae",
   "metadata": {},
   "source": [
    "# 4. If a PdfFileReader object’s PDF is encrypted with the password swordfish, what must you do before you can obtain Page objects from it?"
   ]
  },
  {
   "cell_type": "code",
   "execution_count": null,
   "id": "45c2bfec",
   "metadata": {},
   "outputs": [],
   "source": [
    "we need to decrypt first then using getPage() will able to get page"
   ]
  },
  {
   "cell_type": "markdown",
   "id": "ad7cc637",
   "metadata": {},
   "source": [
    "# 5. What methods do you use to rotate a page?"
   ]
  },
  {
   "cell_type": "code",
   "execution_count": null,
   "id": "f1772903",
   "metadata": {},
   "outputs": [],
   "source": [
    "using rotateClockwise()  "
   ]
  },
  {
   "cell_type": "markdown",
   "id": "50f2810a",
   "metadata": {},
   "source": [
    "# 6. What is the difference between a Run object and a Paragraph object?"
   ]
  },
  {
   "cell_type": "code",
   "execution_count": null,
   "id": "b33b47db",
   "metadata": {},
   "outputs": [],
   "source": [
    "???"
   ]
  },
  {
   "cell_type": "markdown",
   "id": "4a5c7812",
   "metadata": {},
   "source": [
    "# 7. How do you obtain a list of Paragraph objects for a Document object that’s stored in a variable named doc?"
   ]
  },
  {
   "cell_type": "code",
   "execution_count": null,
   "id": "7db96209",
   "metadata": {},
   "outputs": [],
   "source": [
    "????"
   ]
  },
  {
   "cell_type": "markdown",
   "id": "6fe67778",
   "metadata": {},
   "source": [
    "# 8. What type of object has bold, underline, italic, strike, and outline variables?"
   ]
  },
  {
   "cell_type": "code",
   "execution_count": null,
   "id": "5784d2dc",
   "metadata": {},
   "outputs": [],
   "source": [
    "???"
   ]
  },
  {
   "cell_type": "markdown",
   "id": "d948ee7a",
   "metadata": {},
   "source": [
    "# 9. What is the difference between False, True, and None for the bold variable?"
   ]
  },
  {
   "cell_type": "code",
   "execution_count": null,
   "id": "226c7db5",
   "metadata": {},
   "outputs": [],
   "source": [
    "???"
   ]
  },
  {
   "cell_type": "markdown",
   "id": "096ec5b2",
   "metadata": {},
   "source": [
    "# 10. How do you create a Document object for a new Word document?"
   ]
  },
  {
   "cell_type": "code",
   "execution_count": null,
   "id": "a9c3e1e8",
   "metadata": {},
   "outputs": [],
   "source": [
    "Create an object of Document class.\n",
    "Create an object of DocumentBuilder class.\n",
    "Insert text into document using DocumentBuilder. write() method.\n",
    "Save the Word document using Document. save() method."
   ]
  },
  {
   "cell_type": "markdown",
   "id": "bda8b096",
   "metadata": {},
   "source": [
    "# 11. How do you add a paragraph with the text &#39;Hello, there!&#39; to a Document object stored in a variable named doc?"
   ]
  },
  {
   "cell_type": "code",
   "execution_count": null,
   "id": "151bd0d9",
   "metadata": {},
   "outputs": [],
   "source": [
    "????"
   ]
  },
  {
   "cell_type": "markdown",
   "id": "7b3b04bc",
   "metadata": {},
   "source": [
    "# 12. What integers represent the levels of headings available in Word documents?"
   ]
  },
  {
   "cell_type": "code",
   "execution_count": null,
   "id": "ca379297",
   "metadata": {},
   "outputs": [],
   "source": [
    "number headings so that top-level headings (Heading 1) are numbered 1, 2, 3, for example, and second-level headings (Heading 2) are numbered 1.1, 1.2, 1.3. Open your document that uses built-in heading styles, and select the first Heading 1."
   ]
  },
  {
   "cell_type": "code",
   "execution_count": null,
   "id": "cbad07db",
   "metadata": {},
   "outputs": [],
   "source": []
  }
 ],
 "metadata": {
  "kernelspec": {
   "display_name": "Python 3",
   "language": "python",
   "name": "python3"
  },
  "language_info": {
   "codemirror_mode": {
    "name": "ipython",
    "version": 3
   },
   "file_extension": ".py",
   "mimetype": "text/x-python",
   "name": "python",
   "nbconvert_exporter": "python",
   "pygments_lexer": "ipython3",
   "version": "3.8.8"
  }
 },
 "nbformat": 4,
 "nbformat_minor": 5
}
